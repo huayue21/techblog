{
 "metadata": {
  "name": ""
 },
 "nbformat": 3,
 "nbformat_minor": 0,
 "worksheets": [
  {
   "cells": [
    {
     "cell_type": "markdown",
     "metadata": {},
     "source": [
      "# Differential Equations in Data Science"
     ]
    },
    {
     "cell_type": "markdown",
     "metadata": {},
     "source": [
      "The ordinary differential equation (ODE) is a tool often overlooked in data science. It's not listed in [the top 10 data science algorithms]( http://www.cs.umd.edu/~samir/498/10Algorithms-08.pdf), Google's Chief Economist's [tricks for big data](http://people.ischool.berkeley.edu/~hal/Papers/2013/ml.pdf) or by the numerious texts in data science. However, it's a tool that's been in use for centuries, modeling everything from predicting [optimal pharmaceutical dosing schedules](http://www.ncbi.nlm.nih.gov/pubmed/19854637) through [estimating options pricing](http://en.wikipedia.org/wiki/Black%E2%80%93Scholes_model). Here at URX we feel no tool should be left behind. We've re-surfaced the ODE and, as a gentle introduction, would like to show how it relates to a very common data science tool, markov chains. "
     ]
    },
    {
     "cell_type": "markdown",
     "metadata": {},
     "source": [
      "## Discrete Time Markov Chains\n",
      "\n",
      "A discrete time markov chain is a stochastic process modeling a sequence of random variables within a system. The likelihood of the next random variable in the sequence only depends on the current state. \n",
      "\n",
      "Formally, given a sequence of events $X_0,X_1,... X_n$ the probability of transitioning to state $i_n$ can be written as:\n",
      "\n",
      "$$P\\left\\{X_n=i_n| X_0=i_0,...,X_{n-1}=i_{n-1}\\right\\} = P\\left\\{X_n=i_n | X_{n-1}=i_{n-1} \\right\\}$$\n",
      "\n",
      "Associated with a Markov Chain is the one-step probability transition matrix, $A$ defined by:\n",
      "\n",
      "$$a_{i,j}(n) = P\\left\\{X_{n+1}=j|X_n=i\\right\\}$$\n",
      "\n",
      "Let's look at a common example (and an interview favorite!):\n",
      "\n",
      "Q: What is the expected number of tosses of a fair coin to observe 2 heads in row?\n",
      "\n",
      "Solution: Let's formulate the problem as a markov chain. Any individual coin is considered an independent event. As such, to observe two consecutive heads, we only need knowledge of the previous state of the coin. If the previous toss was heads, we only need one more to stop. If the previous toss was tails, we need to start counting over. Diagram 1 below shows the basic idea"
     ]
    },
    {
     "cell_type": "code",
     "collapsed": false,
     "input": [
      "from IPython.display import Image\n",
      "i = Image(filename='Coin_MC.png')\n",
      "i"
     ],
     "language": "python",
     "metadata": {},
     "outputs": [
      {
       "metadata": {},
       "output_type": "pyout",
       "png": "[encoded data removed]",
       "prompt_number": 33,
       "text": [
        "<IPython.core.display.Image at 0x1080bee90>"
       ]
      }
     ],
     "prompt_number": 33
    },
    {
     "cell_type": "markdown",
     "metadata": {},
     "source": [
      "To translate this Markov diagram into a set of equations we can solve, let's define $X_i$ as the expected number of tosses to reach $HH$ from state $i$. The first equation we can write is:\n",
      "\n",
      "\n",
      "$$\n",
      "X_0 = 1 + \\frac{1}{2}X_H + \\frac{1}{2}X_0 \n",
      "$$\n",
      "\n",
      "Here, $X_H$ represents the expected number of tosses to observe $HH$ given that we've observed zero consecutive heads. In this case we've either just started the coin flip game or our last observation was a T. Looking at the Markov Chain we use the definition of expected values, $\\textbf{E}[Z]=Z*P(Z)$, and the law of total probability we can write:\n",
      "\n",
      "$$\n",
      "\\begin{split}\n",
      "X_0 & = (\\text{No matter the outcome, we need one more toss}) \\\\\n",
      "    & + (\\text{# Tosses remaining if } H\\text{ is observed } |\\ H \\text{ is observed}) * P(H \\text{ is observed}) \\\\\n",
      "    & + (\\text{# Tosses remaining if } T \\text{ is observed } |\\ T \\text{ is observed}) * P(T \\text{ is observed})\n",
      "\\end{split}\n",
      "$$\n",
      "\n",
      "$X_0 = 1 + (\\textbf{E}[X_H])*(\\frac{1}{2}) + (\\textbf{E}[X_0])*(\\frac{1}{2})$\n",
      "\n",
      "$X_0 = 1 + \\frac{1}{2}X_H + \\frac{1}{2}X_0$\n",
      "\n",
      "___________________\n",
      "\n",
      "We can use similar reasoning to write a second equation:\n",
      "$$\n",
      "X_H = 1 + \\frac{1}{2}X_0\n",
      "$$\n",
      "\n",
      "Combining the two yields the solution:\n",
      "\n",
      "$$X_0 = 6 $$\n",
      "\n",
      "Therefore the expected number of tosses to observe two consecutive heads is 6. This problem can be similarly solved by setting up the above linear equations in matrix form:\n",
      "\n",
      "$$\n",
      "\\left( \\begin{array}{cc}\n",
      "1/2 & -1/2  \\\\\n",
      "-1/2 & 1   \\end{array} \\right) \n",
      "\\left(\\begin{array}{cc}\n",
      "X_0 \\\\\n",
      "X_H \\end{array} \\right) =\n",
      "\\left(\\begin{array}{cc}\n",
      "1 \\\\\n",
      "1 \\end{array} \\right)\n",
      "$$\n",
      "\n",
      "The matrix solution is coded below in python"
     ]
    },
    {
     "cell_type": "code",
     "collapsed": false,
     "input": [
      "import numpy as np\n",
      "\n",
      "A = np.array([[.5,-.5],[-.5,1]])\n",
      "b = np.array([1,1])\n",
      "X = np.linalg.solve(A,b)\n",
      "print 'Expected number of steps from state 0: '+str(X[0])"
     ],
     "language": "python",
     "metadata": {},
     "outputs": [
      {
       "output_type": "stream",
       "stream": "stdout",
       "text": [
        "Expected number of steps from state 0: 6.0\n"
       ]
      }
     ],
     "prompt_number": 1
    },
    {
     "cell_type": "markdown",
     "metadata": {},
     "source": [
      "##Continuous Time Markov Chains\n",
      "Discrete time Markov chains can be extended to a continuous time domain. The probability of the next random variable in a continuous time Markov Chain (CTMC) depends on both the previous random variable and the time elapsed since this observation. Formally, we can write:\n",
      "\n",
      "$$\n",
      "P\\{x(t)=j|F_{x(s)}\\}=P\\{x(t)=j|x(s)\\}\n",
      "$$\n",
      "\n",
      "Where $F_{x(s)}$ is the sequence of all observed random variables, $x$ through time $s$. This Markov property is analogous to the discrete-time formulation above. Additionally, we introduce a new property of CTMCs, time heterogeneity:\n",
      "\n",
      "$$\n",
      "P\\{x(t)=j|x(s)\\}=P\\{x(t-s)=j|x(0)\\}\n",
      "$$\n",
      "\n",
      "Where the likelihood of transitioning states only depends on the relative length of time considered rather than the absolute time. It can be shown that there is only one continuous random variable satisfying both of the above conditions, the exponential random variable:\n",
      "\n",
      "$$\n",
      "f(x)=\n",
      "\\begin{cases}\n",
      "    \\lambda e^{-\\lambda x} & \\text{if } x\\geq 0\\\\\n",
      "    0              & \\text{otherwise}\n",
      "\\end{cases}\n",
      "$$\n",
      "\n",
      "It's simple to show the exponential random variable satisfies both the Markov property and time heterogeneity:\n",
      "\n",
      "$$\n",
      "\\begin{align*}\n",
      "P(x>s+t|x>t) &= \\frac{P(x>s+t,x>t)}{P(x>t)} \\\\\n",
      "             &= \\frac{P(x>s+t)}{P(x>t)} \\\\\n",
      "             &= \\frac{e^{-\\lambda (s+t)}}{- \\lambda t} \\\\\n",
      "             &= e^{-\\lambda s} \\\\\n",
      "             &= P(x>s)\n",
      "\\end{align*}\n",
      "$$\n",
      "\n",
      "Let's take a look at an example. A new pharmaceutical reaction is under study. We're asked to investigate the dynamics of how this novel drug is metabolized by the human body. From pre-clinical observations, it's been discovered that the drug can transition between three states: ${A, B, C}$. States $A$ and $C$ are inactive (and not-harmful) whereas state $B$ is the desired active state. The drug can transition between <font color=\"#0052cc\">$A \\Leftrightarrow B$</font> and <font color=\"#0052cc\">$B \\Leftrightarrow C$</font>, but cannot directly transition <font color=\"#e11d21\">$A \\Leftrightarrow C$</font>. It's also been observed that the rate at which the pharmaceutical transitions between states mimics an exponential distribution. How long does this drug spend in the active state?\n",
      "\n",
      "As a first step let's visualize this problem as a continuous time Markov Chain:"
     ]
    },
    {
     "cell_type": "code",
     "collapsed": false,
     "input": [
      "from IPython.display import Image\n",
      "i = Image(filename='ABC_MC.png')\n",
      "i"
     ],
     "language": "python",
     "metadata": {},
     "outputs": [
      {
       "metadata": {},
       "output_type": "pyout",
       "png": "[encoded data removed]",
       "prompt_number": 81,
       "text": [
        "<IPython.core.display.Image at 0x10806f990>"
       ]
      }
     ],
     "prompt_number": 81
    },
    {
     "cell_type": "markdown",
     "metadata": {},
     "source": [
      "An embedded Markov Chain can be formulated:\n",
      "\n",
      "$$\n",
      "A=\\left( \\begin{array}{ccc}\n",
      "0 & \\lambda(A,B) & 0  \\\\\n",
      "\\lambda(B,A) & 0 & \\lambda(B,C) \\\\\n",
      "0 & \\lambda(C,B) & 0\n",
      "\\end{array} \\right) \n",
      "$$\n",
      "\n",
      "Let's simulate the states of this pharmaceutical using the [Gillespie algorithm](http://www.ncsu.edu/crsc/reports/ftp/pdf/crsc-tr11-17.pdf)."
     ]
    },
    {
     "cell_type": "code",
     "collapsed": false,
     "input": [
      "%matplotlib inline"
     ],
     "language": "python",
     "metadata": {},
     "outputs": [],
     "prompt_number": 1
    },
    {
     "cell_type": "code",
     "collapsed": false,
     "input": [
      "from __future__ import division\n",
      "import numpy as np\n",
      "\n",
      "# rates for leaving current state\n",
      "A = np.array([.1, .2, .1])                                     \n",
      "# number of Markov transitions to observe\n",
      "N = int(1e5)\n",
      "# state vector\n",
      "X = np.zeros(N+1)\n",
      "# time vector\n",
      "T = np.zeros(N+1)\n",
      "# 'probability' vector\n",
      "P = np.zeros(3)\n",
      "\n",
      "for n in range(N):\n",
      "\n",
      "    # sample the next transition time from exp distribution                                   \n",
      "    tnext = np.random.exponential() / A[X[n]]\n",
      "    T[n+1] = T[n] + tnext\n",
      "\n",
      "    # move to the next Markov state                                                           \n",
      "    if X[n] == 0:\n",
      "        X[n+1] = 1\n",
      "    elif X[n] == 1:\n",
      "        if np.random.rand() > .5:\n",
      "            X[n+1] = 2\n",
      "        else:\n",
      "            X[n+1] = 0\n",
      "    else:\n",
      "        X[n+1] = 1;\n",
      "\n",
      "for i in range(3):\n",
      "\n",
      "    # idxs of when Markov Chain transitioned to state i                                                        \n",
      "    idx = np.where(X == i)[0];\n",
      "    idx = idx[:-1];\n",
      "\n",
      "    # 'Probabilities' (fraction of the time MC in state i)                                         \n",
      "    P[i] = np.sum( (T[idx+1] - T[idx]) ) / (T[-1] - T[0]);\n",
      "\n",
      "print \"Fraction of time observed by each state is: \"\n",
      "print P"
     ],
     "language": "python",
     "metadata": {},
     "outputs": [
      {
       "output_type": "stream",
       "stream": "stdout",
       "text": [
        "Fraction of time observed by each state is: \n",
        "[ 0.33356391  0.33332016  0.33311175]\n"
       ]
      }
     ],
     "prompt_number": 3
    },
    {
     "cell_type": "markdown",
     "metadata": {},
     "source": [
      "Unsurprisingly, with equal transition rates for every reaction, the pharmaceutical is equally likely to be in any state. The question remains, how do we calculate the probability of observing a state at a specific time?\n",
      "\n",
      "## A Primer on Differential Equations\n",
      "Before we look at linking Markov chains with ordinary differential equations (ODEs), let's get a quick overview of ODEs. As the name implies, differential equations are formed as equations of the derivate of a function. They're common constructs used in physics (Newton's law is a second-order ODE), chemistry and biology where it's often easier to measure the derivate of a function (e.g., velocity) than the function itself (e.g., position). \n",
      "\n",
      "The simplest form of a differential equation is simply a constant\n",
      "\n",
      "$$\n",
      "\\frac{dx}{dt}=1\n",
      "$$\n",
      "\n",
      "To solve, multiply by dt and integrate:\n",
      "\n",
      "$$\n",
      "\\begin{align*}\n",
      "    dx &= dt \\\\ \n",
      "    x  &= \\int dt \\\\\n",
      "    x  &= t + C\n",
      "\\end{align*}\n",
      "$$\n",
      "\n",
      "Where $C$ is an arbitrary constant. Given an initial condition, say $x(0) = 1$ we can solve for $C$. In this case, $C= 1$\n",
      "\n",
      "A slightly more complicated example:\n",
      "\n",
      "$$\n",
      "\\begin{align*}\n",
      "    \\frac{dx}{dt} &=-x \\\\\n",
      "    \\frac{dx}{x} &= -dt \\\\ \n",
      "    \\int \\frac{dx}{x}  &= \\int -dt \\\\\n",
      "    ln(x)  &= -t + c \\\\\n",
      "    x  &= e^{-t+c} \\\\\n",
      "    x  &= Ce^{-t}\n",
      "\\end{align*}\n",
      "$$\n",
      "\n",
      "As with above, given an initial condition, $C$ can be quantified."
     ]
    },
    {
     "cell_type": "markdown",
     "metadata": {},
     "source": [
      "This solution form should look familiar to the continuous time Markov chain rate constants above, an exponentially distributed variable. Let's go one step further and extend to a system of ordinary differential equations. As a simple example, let's solve a system of two differential equations\n",
      "\n",
      "$$\n",
      "\\begin{align*}\n",
      "    \\frac{dx_1}{dt} &= -\\lambda(1,2) x_1(t) + \\lambda(2,1) x_2(t)\\\\\n",
      "    \\frac{dx_2}{dt} &= \\lambda (1,2) x_1(t) - \\lambda(2,1) x_2(t)\n",
      "\\end{align*}\n",
      "$$\n",
      "\n",
      "And reforming as a matrix system:\n",
      "\n",
      "$$\n",
      "\\frac{dX}{dt} =\\left( \n",
      "    \\begin{array}{cc} -\\lambda(1,2) & \\lambda(2,1) \\\\ \n",
      "    \\lambda(1,2) & -\\lambda(2,1) \\\\ \n",
      "    \\end{array} \\right) X\n",
      "$$\n",
      "\n",
      "Similar to the scalar case, we can write the solution to this linear ODE using a matrix exponential $\\textbf{e}$\n",
      "\n",
      "$$\n",
      "\\textbf{X} = \\textbf{X}_0*\\textbf{e}^{\\textbf{A}t}\n",
      "$$\n",
      "\n",
      "Where $\\textbf{A}$ is the above $2X2$ coefficient matrix and $X_0$ is determined by an initial condition. To solve this system, there are two approaches. The first is direct evaluation of the matrix exponential, but this is often an [inaccurate and laborious process](http://www.cs.cornell.edu/cv/researchpdf/19ways+.pdf). Rather, we'll use an adaptive [Runga-Kutta](http://en.wikipedia.org/wiki/Runge_kutta) method to discretize, in time and approximate the differential $\\frac{dX}{dt}$ as a series of iterative steps.\n",
      "\n",
      "First order linear systems of ODEs present with one of three possible solutions: \n",
      "\n",
      "- exponential growth, where eigenvalues of the coefficient matrix are positive.\n",
      "- exponential decay, where eigenvalues are negative.\n",
      "- oscillatory behavior, where imaginary eigenvalues.\n",
      "\n",
      "For a more in depth derivation and description of ordinary differential equations, take a look at [Boyce, W., DiPrima R., *Elementary Differential Equations*](http://courseware.ku.edu.tr/ahmetkoc/public_html/W.%20E.%20Boyce,%20R.C.%20DiPrima%20-%20Elementary%20Differential%20Equations%20and%20Boundary%20Value%20Problems.pdf), and a detailed technical description of the numerics of solving such differential equations can be found in [Eugene Isaacson's Analysis of Numerical Method](http://books.google.com/books/about/Analysis_of_Numerical_Methods.html?id=y77n2ySMJHUC)"
     ]
    },
    {
     "cell_type": "markdown",
     "metadata": {},
     "source": [
      "## Linking MCs with ODEs\n",
      "Let's revisit our previous question with continuous-time Markov Chains; what is the probability of being in a state at a given time?\n",
      "\n",
      "To solve this, we present the [*Kolmogorov Forward Equation*](http://en.wikipedia.org/wiki/Kolmogorov_Forward_Equation)\n",
      "\n",
      "$$\n",
      "P'(t) = \\textbf{A}P(t)\n",
      "$$\n",
      "\n",
      "Where $P(t)$ is a vector of probabilities for each state, $P_{ij}=P\\{x(t)=i|x(0)=j\\}$ of transitioning to state $i$ from state $j$ within a time period, $t$. A nice derivation of this equation can be found in [Bremaud, P. Markov Chains: Gibbs Fields, Monte Carlo Simulation, and Queues](http://sistemas.fciencias.unam.mx/~silo/Cursos/ProcesosEst22011-2/Bremaud.pdf).\n",
      "\n",
      "Continuing our pharmaceutical example from before, let's answer the question what is the probability of transitioning to a state at time $t$? We'll need one further piece of information: the initial state of the system. We'll say at time 0, the pharmaceutical is observed in inactive state $A$"
     ]
    },
    {
     "cell_type": "code",
     "collapsed": false,
     "input": [
      "from scipy.integrate import ode\n",
      "\n",
      "def A():\n",
      "    '''\n",
      "    Transition probability matrix\n",
      "    '''\n",
      "    return np.array([[-.1,.1,0], [.1,-.2,.1], [0,.1,-.1]])\n",
      "\n",
      "def dPdt(t,P,A):\n",
      "    '''\n",
      "    Differential equation: dP/dt = A * P\n",
      "    '''\n",
      "    return np.dot(P,A())\n",
      "\n",
      "def solveKFW(Tf):\n",
      "    '''\n",
      "    Discretize and integrate the Kolmogorov\n",
      "    Forward Equation.\n",
      "    '''\n",
      "    \n",
      "    #Define initial conditions\n",
      "    P0 = np.array([1,0,0])\n",
      "    t0 = 0\n",
      "    dt = Tf/100\n",
      "    \n",
      "    #set the integrator\n",
      "    rk45 = ode(dPdt).set_integrator('dopri45')\n",
      "    rk45.set_initial_value(P0,t0).set_f_params(A)\n",
      "    \n",
      "    #integrate and store each solution in\n",
      "    #a numpy matrix, P and T.\n",
      "    P = np.zeros((100,3))\n",
      "    T = np.zeros(100)\n",
      "    P[0,:] = P0\n",
      "    T[0]   = t0\n",
      "    idx    = 0\n",
      "    while rk45.successful() and rk45.t < Tf:\n",
      "        rk45.integrate(rk45.t+dt)\n",
      "        P[idx,:] = np.array(rk45.y)\n",
      "        T[idx]   = rk45.t\n",
      "        idx     += 1\n",
      "    \n",
      "    return P,T\n",
      "    \n",
      "if __name__=='__main__':\n",
      "    P,T = solveKFW(120)\n",
      "    \n",
      "    plot(T,P[:,0],'s-r')\n",
      "    plot(T,P[:,1],'^-g')\n",
      "    plot(T,P[:,2],'*-k')\n",
      "    legend(['Inactive A','Active, B', 'Inactive, C'])\n",
      "    xlabel('Time (m)')\n",
      "    ylabel('Pr of state, s')"
     ],
     "language": "python",
     "metadata": {},
     "outputs": [
      {
       "metadata": {},
       "output_type": "display_data",
       "png": "[encoded data removed]",
       "text": [
        "<matplotlib.figure.Figure at 0x105542b90>"
       ]
      }
     ],
     "prompt_number": 5
    },
    {
     "cell_type": "markdown",
     "metadata": {},
     "source": [
      "Thus, the probability of a given state quickly converges to $1/3$."
     ]
    },
    {
     "cell_type": "markdown",
     "metadata": {},
     "source": [
      "## Conclusion\n",
      "So why use differential equations over Markov Chains? \n",
      "\n",
      "In the end you can use both to answer different questions. Monte Carlo simulations of continuous time Markov Chain hops approximates the number of times a random variable observes a given state. This provides stochastically approximated, local behavior of a MC. Integration of the Monte Carlo generator (ordinary differential equation) provides a picture of the chain's transition probabilities. This global behavior can help to understand the long-time behavior of the chain."
     ]
    },
    {
     "cell_type": "markdown",
     "metadata": {},
     "source": [
      "Enjoy what you read? URX is hiring top notch data scientists, full stack engineers and mobile engineers. Have a look at http://urx.com/careers or reach out at [research@urx.com](mailto:research@urx.com). We'd love to hear how you are making use of such techniques in your projects."
     ]
    }
   ],
   "metadata": {}
  }
 ]
}